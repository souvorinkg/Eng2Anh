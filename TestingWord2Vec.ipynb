{
 "cells": [
  {
   "cell_type": "code",
   "execution_count": null,
   "metadata": {},
   "outputs": [],
   "source": [
    "from gensim.models import Word2Vec\n",
    "import gensim\n",
    "from nltk.tokenize import sent_tokenize, word_tokenize\n",
    "import warnings\n",
    " \n",
    "warnings.filterwarnings(action='ignore')\n",
    " \n",
    " \n",
    "#  Reads ‘alice.txt’ file\n",
    "sample = open(\"alice.txt\")\n",
    "s = sample.read()\n",
    " \n",
    "# Replaces escape character with space\n",
    "f = s.replace(\"\\n\", \" \")\n",
    " \n",
    "data = []\n",
    " \n",
    "# iterate through each sentence in the file\n",
    "for i in sent_tokenize(f):\n",
    "    temp = []\n",
    " \n",
    "    # tokenize the sentence into words\n",
    "    for j in word_tokenize(i):\n",
    "        temp.append(j.lower())\n",
    " \n",
    "    data.append(temp)\n",
    " \n",
    "# Create CBOW model\n",
    "model1 = gensim.models.Word2Vec(data, min_count=1,\n",
    "                                vector_size=100, window=5)\n",
    " \n",
    "# Print results\n",
    "print(\"Cosine similarity between 'alice' \" +\n",
    "      \"and 'wonderland' - CBOW : \",\n",
    "      model1.wv.similarity('alice', 'wonderland'))\n",
    " \n",
    "print(\"Cosine similarity between 'alice' \" +\n",
    "      \"and 'machines' - CBOW : \",\n",
    "      model1.wv.similarity('alice', 'machines'))\n",
    " \n",
    "# Create Skip Gram model\n",
    "model2 = gensim.models.Word2Vec(data, min_count=1, vector_size=100,\n",
    "                                window=5, sg=1)\n",
    " \n",
    "# Print results\n",
    "print(\"Cosine similarity between 'alice' \" +\n",
    "      \"and 'wonderland' - Skip Gram : \",\n",
    "      model2.wv.similarity('alice', 'wonderland'))\n",
    " \n",
    "print(\"Cosine similarity between 'alice' \" +\n",
    "      \"and 'machines' - Skip Gram : \",\n",
    "      model2.wv.similarity('alice', 'machines'))"
   ]
  },
  {
   "cell_type": "code",
   "execution_count": null,
   "metadata": {},
   "outputs": [],
   "source": [
    "vector = model.wv['good']  # get numpy vector of a word\n",
    "    #print(vector)\n",
    "\n",
    "    # take a vector in numpy, and turn it into a word\n",
    "word = model.wv.similar_by_vector(vector)[0]\n",
    "print(word)\n",
    "\n",
    "vector = vector * -1\n",
    "    #print(vector)\n",
    "word = model.wv.similar_by_vector(vector)[0]\n",
    "print(word)"
   ]
  },
  {
   "cell_type": "code",
   "execution_count": null,
   "metadata": {},
   "outputs": [],
   "source": []
  }
 ],
 "metadata": {
  "kernelspec": {
   "display_name": "Python 3",
   "language": "python",
   "name": "python3"
  },
  "language_info": {
   "codemirror_mode": {
    "name": "ipython",
    "version": 3
   },
   "file_extension": ".py",
   "mimetype": "text/x-python",
   "name": "python",
   "nbconvert_exporter": "python",
   "pygments_lexer": "ipython3",
   "version": "3.11.9"
  }
 },
 "nbformat": 4,
 "nbformat_minor": 2
}
