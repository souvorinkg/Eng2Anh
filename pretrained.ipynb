{
 "cells": [
  {
   "cell_type": "code",
   "execution_count": 1,
   "metadata": {},
   "outputs": [
    {
     "name": "stdout",
     "output_type": "stream",
     "text": [
      "[('kings', 0.7138046622276306), ('queen', 0.6510956883430481), ('monarch', 0.6413194537162781), ('crown_prince', 0.6204220056533813), ('prince', 0.6159993410110474), ('sultan', 0.5864824056625366), ('ruler', 0.5797566771507263), ('princes', 0.5646551847457886), ('Prince_Paras', 0.5432944297790527), ('throne', 0.5422104597091675)]\n"
     ]
    }
   ],
   "source": [
    "from gensim.models import KeyedVectors\n",
    "\n",
    "# Load Google's pre-trained Word2Vec model\n",
    "model = KeyedVectors.load_word2vec_format('GoogleNews-vectors-negative300.bin', binary=True)\n",
    "\n",
    "# Example usage: find the most similar words to a given word\n",
    "similar_words = model.most_similar('king', topn=10)\n",
    "print(similar_words)\n",
    "\n",
    "# Save the model in Gensim format if needed\n",
    "model.save(\"google_word2vec.model\")\n"
   ]
  },
  {
   "cell_type": "code",
   "execution_count": 7,
   "metadata": {},
   "outputs": [
    {
     "name": "stdout",
     "output_type": "stream",
     "text": [
      "('ugly', 1.0000001192092896)\n",
      "[(\"l'_Affaire\", 0.24085737764835358), ('Ovidiu_Rom', 0.23866493999958038), ('Cindy_Crawford', 0.22894632816314697), ('AP_HOCKEY_NEWS', 0.2287786900997162), ('relevations', 0.2274806648492813), ('lawsuit_Patricia_Conradt', 0.22361591458320618), ('constitutional_amendments', 0.22155089676380157), ('Australian_sheepskin_boots', 0.21943031251430511), ('opera_Elaine_Padmore', 0.2183947116136551), ('Linda_Evangelista', 0.2174256294965744)]\n"
     ]
    }
   ],
   "source": [
    "\n",
    "vector = model.get_vector('ugly')  # get numpy vector of a word\n",
    "#print(vector)\n",
    "\n",
    "# take a vector in numpy, and turn it into a word\n",
    "word = model.similar_by_vector(vector)[0]\n",
    "print(word)\n",
    "\n",
    "vector = vector +100\n",
    "#print(vector)\n",
    "word = model.similar_by_vector(vector)\n",
    "print(word)\n",
    "\n"
   ]
  }
 ],
 "metadata": {
  "kernelspec": {
   "display_name": "Python 3",
   "language": "python",
   "name": "python3"
  },
  "language_info": {
   "codemirror_mode": {
    "name": "ipython",
    "version": 3
   },
   "file_extension": ".py",
   "mimetype": "text/x-python",
   "name": "python",
   "nbconvert_exporter": "python",
   "pygments_lexer": "ipython3",
   "version": "3.11.9"
  }
 },
 "nbformat": 4,
 "nbformat_minor": 2
}
